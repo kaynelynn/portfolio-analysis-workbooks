{
 "cells": [
  {
   "cell_type": "raw",
   "metadata": {},
   "source": [
    "1. Enter all variables for interest rates\n",
    "2. Develop function that accepts parameters to determine interest rate on different time periods\n",
    "3. Create function that compounds interest, counts up."
   ]
  },
  {
   "cell_type": "code",
   "execution_count": 14,
   "metadata": {},
   "outputs": [],
   "source": [
    "# Set initial interest rates and balances. Balances equal to roughly maxed out.\n",
    "cc_venture_rate = .1999\n",
    "cc_venture_rate_cash = .2399\n",
    "\n",
    "cc_walmart_rate = .2324\n",
    "cc_walmart_rate_cash = .2699\n",
    "\n",
    "cc_buisness_rate = .2299\n",
    "cc_buisness_rate_cash = .2299\n",
    "\n",
    "cc_discover_rate = .1799\n",
    "cc_discover_rate_cash = .2499\n",
    "\n",
    "cc_apple_rate = .2199\n",
    "cc_apple_rate_cash = .2199\n",
    "\n",
    "cc_venture_bal = 8000.00\n",
    "cc_walmart_bal = 2000.00\n",
    "cc_buisness_bal = 2000.00\n",
    "cc_discover_bal = 1500.00\n",
    "cc_apple_bal = 2500.00"
   ]
  },
  {
   "cell_type": "code",
   "execution_count": 16,
   "metadata": {},
   "outputs": [
    {
     "name": "stdout",
     "output_type": "stream",
     "text": [
      "0.0006024657534246576\n",
      "1.5061643835616438\n",
      "45.18493150684932\n"
     ]
    }
   ],
   "source": [
    "# Basic Functions\n",
    "def daily_rate(apr):\n",
    "    rate = apr / 365\n",
    "    return rate\n",
    "\n",
    "def daily_interest(daily_rate, bal):\n",
    "    return daily_rate * bal\n",
    "\n",
    "def monthly_interest(daily_interest):\n",
    "    return daily_interest * 30\n",
    "\n",
    "print(daily_rate(cc_apple_rate))\n",
    "print(daily_interest(daily_rate(cc_apple_rate), cc_apple_bal))\n",
    "print(monthly_interest(daily_interest(daily_rate(cc_apple_rate), cc_apple_bal)))\n",
    "    "
   ]
  },
  {
   "cell_type": "code",
   "execution_count": null,
   "metadata": {},
   "outputs": [],
   "source": [
    "# Retrieve local transactions from csv\n",
    "\n",
    "import pandas as pd\n",
    "import numpy as np\n",
    "\n",
    "trans ="
   ]
  }
 ],
 "metadata": {
  "kernelspec": {
   "display_name": "Python 3",
   "language": "python",
   "name": "python3"
  },
  "language_info": {
   "codemirror_mode": {
    "name": "ipython",
    "version": 3
   },
   "file_extension": ".py",
   "mimetype": "text/x-python",
   "name": "python",
   "nbconvert_exporter": "python",
   "pygments_lexer": "ipython3",
   "version": "3.6.6+"
  }
 },
 "nbformat": 4,
 "nbformat_minor": 2
}
